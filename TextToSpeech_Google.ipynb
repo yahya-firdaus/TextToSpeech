{
  "nbformat": 4,
  "nbformat_minor": 0,
  "metadata": {
    "colab": {
      "name": "TextToSpeech-Google.ipynb",
      "provenance": []
    },
    "kernelspec": {
      "name": "python3",
      "display_name": "Python 3"
    }
  },
  "cells": [
    {
      "cell_type": "code",
      "metadata": {
        "colab": {
          "base_uri": "https://localhost:8080/"
        },
        "id": "wcQ95-5Wm14X",
        "outputId": "4b1f4832-94be-4889-b15d-1dffee5c0582"
      },
      "source": [
        "mytext = input(\"Masukkan teks : \")"
      ],
      "execution_count": 2,
      "outputs": [
        {
          "output_type": "stream",
          "text": [
            "Masukkan teks : Nama saya\n"
          ],
          "name": "stdout"
        }
      ]
    },
    {
      "cell_type": "markdown",
      "metadata": {
        "id": "OVQOSUjrhiR_"
      },
      "source": [
        "## Install"
      ]
    },
    {
      "cell_type": "code",
      "metadata": {
        "colab": {
          "base_uri": "https://localhost:8080/"
        },
        "id": "SolxR5qJhDqP",
        "outputId": "6cf0ea95-d022-499e-bf7d-d093a927f7ce"
      },
      "source": [
        "!pip install gTTS\r\n",
        "!pip install pydub"
      ],
      "execution_count": 3,
      "outputs": [
        {
          "output_type": "stream",
          "text": [
            "Collecting gTTS\n",
            "  Downloading https://files.pythonhosted.org/packages/5f/b9/94e59337107be134b21ce395a29fc0715b707b560108d6797de2d93e1178/gTTS-2.2.2-py3-none-any.whl\n",
            "Requirement already satisfied: click in /usr/local/lib/python3.6/dist-packages (from gTTS) (7.1.2)\n",
            "Requirement already satisfied: requests in /usr/local/lib/python3.6/dist-packages (from gTTS) (2.23.0)\n",
            "Requirement already satisfied: six in /usr/local/lib/python3.6/dist-packages (from gTTS) (1.15.0)\n",
            "Requirement already satisfied: idna<3,>=2.5 in /usr/local/lib/python3.6/dist-packages (from requests->gTTS) (2.10)\n",
            "Requirement already satisfied: certifi>=2017.4.17 in /usr/local/lib/python3.6/dist-packages (from requests->gTTS) (2020.12.5)\n",
            "Requirement already satisfied: urllib3!=1.25.0,!=1.25.1,<1.26,>=1.21.1 in /usr/local/lib/python3.6/dist-packages (from requests->gTTS) (1.24.3)\n",
            "Requirement already satisfied: chardet<4,>=3.0.2 in /usr/local/lib/python3.6/dist-packages (from requests->gTTS) (3.0.4)\n",
            "Installing collected packages: gTTS\n",
            "Successfully installed gTTS-2.2.2\n",
            "Collecting pydub\n",
            "  Downloading https://files.pythonhosted.org/packages/7b/d1/fbfa79371a8cd9bb15c2e3c480d7e6e340ed5cc55005174e16f48418333a/pydub-0.24.1-py2.py3-none-any.whl\n",
            "Installing collected packages: pydub\n",
            "Successfully installed pydub-0.24.1\n"
          ],
          "name": "stdout"
        }
      ]
    },
    {
      "cell_type": "markdown",
      "metadata": {
        "id": "842EKanghkW_"
      },
      "source": [
        "## Proses"
      ]
    },
    {
      "cell_type": "code",
      "metadata": {
        "id": "Pk_0jv5FhLOZ"
      },
      "source": [
        "from gtts import gTTS \r\n",
        "import os \r\n",
        "\r\n",
        "language = 'id'\r\n",
        "myobj = gTTS(text=mytext, lang=language, slow=False) \r\n",
        "myobj.save(\"/content/output.wav\")"
      ],
      "execution_count": 4,
      "outputs": []
    },
    {
      "cell_type": "markdown",
      "metadata": {
        "id": "gMDFjQw7nBDK"
      },
      "source": [
        "## Output"
      ]
    },
    {
      "cell_type": "code",
      "metadata": {
        "colab": {
          "base_uri": "https://localhost:8080/",
          "height": 75
        },
        "id": "9Fp1m3GThTph",
        "outputId": "7387d2e2-a280-438d-9272-c11df07eb389"
      },
      "source": [
        "from IPython.display import Audio\r\n",
        "Audio(\"/content/output.wav\")"
      ],
      "execution_count": 5,
      "outputs": [
        {
          "output_type": "execute_result",
          "data": {
            "text/html": [
              "\n",
              "                <audio controls=\"controls\" >\n",
              "                    <source src=\"data:audio/x-wav;base64,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\" type=\"audio/x-wav\" />\n",
              "                    Your browser does not support the audio element.\n",
              "                </audio>\n",
              "              "
            ],
            "text/plain": [
              "<IPython.lib.display.Audio object>"
            ]
          },
          "metadata": {
            "tags": []
          },
          "execution_count": 5
        }
      ]
    }
  ]
}